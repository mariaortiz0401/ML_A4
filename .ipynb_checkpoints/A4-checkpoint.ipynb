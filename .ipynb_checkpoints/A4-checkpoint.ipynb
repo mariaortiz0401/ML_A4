{
 "cells": [
  {
   "cell_type": "code",
   "execution_count": 65,
   "id": "17d7a186-9ab0-4ad8-a96d-826c4322dfe0",
   "metadata": {},
   "outputs": [],
   "source": [
    "import h5py\n",
    "import numpy as np\n",
    "import pandas as pd"
   ]
  },
  {
   "cell_type": "code",
   "execution_count": 23,
   "id": "eefe399a-f5dd-48c0-9e8d-922f49afaeba",
   "metadata": {},
   "outputs": [],
   "source": [
    "dataset = h5py.File('multimodal_imdb.hdf5', 'r')\n"
   ]
  },
  {
   "cell_type": "code",
   "execution_count": 24,
   "id": "f7c2d112-10a8-486b-b7bd-9a6402f57002",
   "metadata": {},
   "outputs": [
    {
     "data": {
      "text/plain": [
       "['features',\n",
       " 'genres',\n",
       " 'images',\n",
       " 'imdb_ids',\n",
       " 'sequences',\n",
       " 'three_grams',\n",
       " 'vgg_features',\n",
       " 'word_grams']"
      ]
     },
     "execution_count": 24,
     "metadata": {},
     "output_type": "execute_result"
    }
   ],
   "source": [
    "list(dataset.keys())"
   ]
  },
  {
   "cell_type": "code",
   "execution_count": 95,
   "id": "a6c395e1-304c-4f36-88e4-c53bcc7e9818",
   "metadata": {},
   "outputs": [],
   "source": [
    "def jaccard(a, b):\n",
    "    a = np.array(a)  \n",
    "    b = np.array(b)\n",
    "    \n",
    "    x = a * b\n",
    "\n",
    "    inter = np.sum(x, 1)\n",
    "    union = (np.sum(a, 1) + np.sum(b, 1)) - inter\n",
    "    \n",
    "    j = inter / union\n",
    "    \n",
    "    dis = 1 - j\n",
    "    return dis\n",
    "    "
   ]
  },
  {
   "cell_type": "code",
   "execution_count": 93,
   "id": "e21cabe4-aab2-4e92-b95d-ce40be20fd10",
   "metadata": {},
   "outputs": [
    {
     "name": "stdout",
     "output_type": "stream",
     "text": [
      "[[1 0 0 1 0 0 0 0 0 1 0 0 0 0 0 0 0 0 0 0 0 0 1]]\n",
      "[[1 0 0 1 0 0 0 0 0 1 0 0 0 0 0 0 0 0 0 0 0 0 1]\n",
      " [1 0 0 0 1 0 1 0 0 0 0 0 0 0 0 0 0 0 0 0 0 0 1]\n",
      " [1 0 0 1 1 0 0 0 0 1 0 0 0 0 0 0 0 0 0 0 0 0 1]]\n"
     ]
    }
   ],
   "source": [
    "a = dataset['genres'][0:1]\n",
    "b = dataset['genres'][0:3]\n",
    "print(a)\n",
    "print(b)"
   ]
  },
  {
   "cell_type": "code",
   "execution_count": 94,
   "id": "4535466b-1b94-434a-81d5-9e5706410584",
   "metadata": {},
   "outputs": [
    {
     "name": "stdout",
     "output_type": "stream",
     "text": [
      "Inter [4 2 4]\n",
      "Union [4 6 5]\n"
     ]
    },
    {
     "data": {
      "text/plain": [
       "array([0.        , 0.66666667, 0.2       ])"
      ]
     },
     "execution_count": 94,
     "metadata": {},
     "output_type": "execute_result"
    }
   ],
   "source": [
    "jaccard(a, b)"
   ]
  },
  {
   "cell_type": "code",
   "execution_count": 187,
   "id": "90d5e57e-835b-48ef-90e9-46849e3498a3",
   "metadata": {},
   "outputs": [],
   "source": [
    "def gen_triplet(n_batch, n_trip, filename):\n",
    "    df = pd.DataFrame({'id': dataset['imdb_ids'], 'index': np.arange(0, len(dataset['imdb_ids']))})\n",
    "    \n",
    "    triplets = []\n",
    "    for i in range(n_trip):\n",
    "        while (True):\n",
    "            batch = np.random.choice(dataset['imdb_ids'], n_batch, replace = False)\n",
    "\n",
    "            b = df.loc[df['id'].isin(batch)]\n",
    "            index = np.array(b['index'])\n",
    "\n",
    "            sub_g = dataset['genres'][index]\n",
    "\n",
    "            anchor = sub_g[0:1]\n",
    "            sub_y = sub_g[1:]\n",
    "            j = jaccard(anchor, sub_y)\n",
    "            close = np.min(j)\n",
    "            far = np.max(j)\n",
    "\n",
    "            #Discuss threshold\n",
    "            if close < 0.25 and far > 0.5:\n",
    "                anchor_id = index[0]\n",
    "                pos_id = index[np.argmin(j)+1]\n",
    "                neg_id = index[np.argmax(j)+1]\n",
    "                triplet = [anchor_id, pos_id, neg_id]\n",
    "                triplets.append(triplet)\n",
    "                break\n",
    "\n",
    "    triplets = np.array(triplets)\n",
    "    np.save(filename, triplets)"
   ]
  },
  {
   "cell_type": "code",
   "execution_count": 188,
   "id": "cd3e6690-5641-4cee-bcf7-4c24debd3136",
   "metadata": {},
   "outputs": [],
   "source": [
    "n_batch = 10\n",
    "gen_triplet(n_batch, 100, \"triplets.npy\")"
   ]
  },
  {
   "cell_type": "code",
   "execution_count": 181,
   "id": "2447e278-1035-4546-bc0f-409bec859cab",
   "metadata": {},
   "outputs": [
    {
     "name": "stdout",
     "output_type": "stream",
     "text": [
      "[0 0 0 0 0 0 0 0 1 0 0 0 0 0 0 0 0 0 0 0 1 0 0]\n",
      "[0 0 0 0 0 0 0 0 1 0 0 0 0 0 0 0 0 0 0 0 1 0 0]\n",
      "[0 0 1 0 0 0 0 0 0 0 0 0 0 0 0 0 0 0 0 1 0 0 0]\n"
     ]
    }
   ],
   "source": [
    "print(dataset['genres'][488])\n",
    "print(dataset['genres'][613])\n",
    "print(dataset['genres'][1083])"
   ]
  },
  {
   "cell_type": "code",
   "execution_count": 190,
   "id": "000a27b9-3845-4b16-8158-28a2f3bf4506",
   "metadata": {},
   "outputs": [
    {
     "data": {
      "text/plain": [
       "(100, 3)"
      ]
     },
     "execution_count": 190,
     "metadata": {},
     "output_type": "execute_result"
    }
   ],
   "source": [
    "triplets = np.load(\"triplets.npy\")\n"
   ]
  },
  {
   "cell_type": "code",
   "execution_count": null,
   "id": "dbe12b9e-9780-4651-9fd7-a0df8856af3a",
   "metadata": {},
   "outputs": [],
   "source": []
  }
 ],
 "metadata": {
  "kernelspec": {
   "display_name": "Python 3",
   "language": "python",
   "name": "python3"
  },
  "language_info": {
   "codemirror_mode": {
    "name": "ipython",
    "version": 3
   },
   "file_extension": ".py",
   "mimetype": "text/x-python",
   "name": "python",
   "nbconvert_exporter": "python",
   "pygments_lexer": "ipython3",
   "version": "3.8.5"
  }
 },
 "nbformat": 4,
 "nbformat_minor": 5
}
