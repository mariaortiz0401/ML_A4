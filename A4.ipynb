{
 "cells": [
  {
   "cell_type": "code",
   "execution_count": 65,
   "id": "17d7a186-9ab0-4ad8-a96d-826c4322dfe0",
   "metadata": {},
   "outputs": [],
   "source": [
    "import h5py\n",
    "import numpy as np\n",
    "import pandas as pd"
   ]
  },
  {
   "cell_type": "code",
   "execution_count": 23,
   "id": "eefe399a-f5dd-48c0-9e8d-922f49afaeba",
   "metadata": {},
   "outputs": [],
   "source": [
    "dataset = h5py.File('multimodal_imdb.hdf5', 'r')\n"
   ]
  },
  {
   "cell_type": "code",
   "execution_count": 24,
   "id": "f7c2d112-10a8-486b-b7bd-9a6402f57002",
   "metadata": {},
   "outputs": [
    {
     "data": {
      "text/plain": [
       "['features',\n",
       " 'genres',\n",
       " 'images',\n",
       " 'imdb_ids',\n",
       " 'sequences',\n",
       " 'three_grams',\n",
       " 'vgg_features',\n",
       " 'word_grams']"
      ]
     },
     "execution_count": 24,
     "metadata": {},
     "output_type": "execute_result"
    }
   ],
   "source": [
    "list(dataset.keys())"
   ]
  },
  {
   "cell_type": "code",
   "execution_count": 95,
   "id": "a6c395e1-304c-4f36-88e4-c53bcc7e9818",
   "metadata": {},
   "outputs": [],
   "source": [
    "def jaccard(a, b):\n",
    "    a = np.array(a)  \n",
    "    b = np.array(b)\n",
    "    \n",
    "    x = a * b\n",
    "\n",
    "    inter = np.sum(x, 1)\n",
    "    union = (np.sum(a, 1) + np.sum(b, 1)) - inter\n",
    "    \n",
    "    j = inter / union\n",
    "    \n",
    "    dis = 1 - j\n",
    "    return dis\n",
    "    "
   ]
  },
  {
   "cell_type": "code",
   "execution_count": 93,
   "id": "e21cabe4-aab2-4e92-b95d-ce40be20fd10",
   "metadata": {},
   "outputs": [
    {
     "name": "stdout",
     "output_type": "stream",
     "text": [
      "[[1 0 0 1 0 0 0 0 0 1 0 0 0 0 0 0 0 0 0 0 0 0 1]]\n",
      "[[1 0 0 1 0 0 0 0 0 1 0 0 0 0 0 0 0 0 0 0 0 0 1]\n",
      " [1 0 0 0 1 0 1 0 0 0 0 0 0 0 0 0 0 0 0 0 0 0 1]\n",
      " [1 0 0 1 1 0 0 0 0 1 0 0 0 0 0 0 0 0 0 0 0 0 1]]\n"
     ]
    }
   ],
   "source": [
    "a = dataset['genres'][0:1]\n",
    "b = dataset['genres'][0:3]\n",
    "print(a)\n",
    "print(b)"
   ]
  },
  {
   "cell_type": "code",
   "execution_count": 94,
   "id": "4535466b-1b94-434a-81d5-9e5706410584",
   "metadata": {},
   "outputs": [
    {
     "name": "stdout",
     "output_type": "stream",
     "text": [
      "Inter [4 2 4]\n",
      "Union [4 6 5]\n"
     ]
    },
    {
     "data": {
      "text/plain": [
       "array([0.        , 0.66666667, 0.2       ])"
      ]
     },
     "execution_count": 94,
     "metadata": {},
     "output_type": "execute_result"
    }
   ],
   "source": [
    "jaccard(a, b)"
   ]
  },
  {
   "cell_type": "code",
   "execution_count": 187,
   "id": "90d5e57e-835b-48ef-90e9-46849e3498a3",
   "metadata": {},
   "outputs": [],
   "source": [
    "def gen_triplet(n_batch, n_trip, filename):\n",
    "    df = pd.DataFrame({'id': dataset['imdb_ids'], 'index': np.arange(0, len(dataset['imdb_ids']))})\n",
    "    \n",
    "    triplets = []\n",
    "    for i in range(n_trip):\n",
    "        while (True):\n",
    "            batch = np.random.choice(dataset['imdb_ids'], n_batch, replace = False)\n",
    "\n",
    "            b = df.loc[df['id'].isin(batch)]\n",
    "            index = np.array(b['index'])\n",
    "\n",
    "            sub_g = dataset['genres'][index]\n",
    "\n",
    "            anchor = sub_g[0:1]\n",
    "            sub_y = sub_g[1:]\n",
    "            j = jaccard(anchor, sub_y)\n",
    "            close = np.min(j)\n",
    "            far = np.max(j)\n",
    "\n",
    "            #Discuss threshold\n",
    "            if close < 0.25 and far > 0.5:\n",
    "                anchor_id = index[0]\n",
    "                pos_id = index[np.argmin(j)+1]\n",
    "                neg_id = index[np.argmax(j)+1]\n",
    "                triplet = [anchor_id, pos_id, neg_id]\n",
    "                triplets.append(triplet)\n",
    "                break\n",
    "\n",
    "    triplets = np.array(triplets)\n",
    "    np.save(filename, triplets)"
   ]
  },
  {
   "cell_type": "code",
   "execution_count": 193,
   "id": "cd3e6690-5641-4cee-bcf7-4c24debd3136",
   "metadata": {},
   "outputs": [],
   "source": [
    "n_batch = 100\n",
    "gen_triplet(n_batch, 100, \"triplets100.npy\")"
   ]
  },
  {
   "cell_type": "code",
   "execution_count": 197,
   "id": "2447e278-1035-4546-bc0f-409bec859cab",
   "metadata": {},
   "outputs": [
    {
     "name": "stdout",
     "output_type": "stream",
     "text": [
      "[1 0 0 1 1 0 0 0 0 0 0 0 0 0 0 0 0 0 0 0 0 0 1]\n",
      "[1 0 0 1 1 0 0 0 0 0 0 0 0 0 0 0 0 0 0 0 0 0 1]\n",
      "[0 1 0 0 0 0 0 0 0 0 0 1 0 0 0 0 0 1 0 0 0 1 0]\n"
     ]
    }
   ],
   "source": [
    "print(dataset['genres'][40])\n",
    "print(dataset['genres'][166])\n",
    "print(dataset['genres'][235])"
   ]
  },
  {
   "cell_type": "code",
   "execution_count": 195,
   "id": "000a27b9-3845-4b16-8158-28a2f3bf4506",
   "metadata": {},
   "outputs": [
    {
     "data": {
      "text/plain": [
       "array([[  343, 18337,   580],\n",
       "       [   40,   166,   235],\n",
       "       [   35,    50,   361],\n",
       "       [   22,    64,   250],\n",
       "       [   82,    93,   593],\n",
       "       [  488,   590,  1203],\n",
       "       [  145, 15581,  1120],\n",
       "       [   51, 21582,   311],\n",
       "       [   78, 18259,  1012],\n",
       "       [  829, 18514,  1509],\n",
       "       [  617, 19062,  3002],\n",
       "       [   40,    50,   466],\n",
       "       [   10,    35,  4368],\n",
       "       [    2, 18168,   343],\n",
       "       [   59,   155,  1489],\n",
       "       [   51,  6912,   578],\n",
       "       [   81,   119,   452],\n",
       "       [   25,   160,   412],\n",
       "       [  103, 18191,   746],\n",
       "       [  105,  6551,  1413],\n",
       "       [  119, 15580,   282],\n",
       "       [   59,    94,  1555],\n",
       "       [  436, 18309,  1678],\n",
       "       [  182, 15565,   207],\n",
       "       [    2,   121,   889],\n",
       "       [   80, 23201,   658],\n",
       "       [  558, 15684,  1190],\n",
       "       [   69,   134,   333],\n",
       "       [   80, 10483,   264],\n",
       "       [  111,   154,   351],\n",
       "       [   39, 18249,   350],\n",
       "       [    9,   194,   433],\n",
       "       [  585,   823,   980],\n",
       "       [  404,   477,   602],\n",
       "       [   31,    43,   364],\n",
       "       [  177, 15580,   253],\n",
       "       [  538,   655,  1158],\n",
       "       [  534,   761,  1827],\n",
       "       [  240,   377,   581],\n",
       "       [   46,    76,  1216],\n",
       "       [   94,   105,   235],\n",
       "       [  277,   404,   588],\n",
       "       [  987,  1269,  1279],\n",
       "       [  385,   417,   639],\n",
       "       [  382, 15598,   581],\n",
       "       [   94, 15568,   397],\n",
       "       [   36, 15570,   902],\n",
       "       [  147,   198,   833],\n",
       "       [   80,  9772,   628],\n",
       "       [   88,   157,   296],\n",
       "       [  115,   172,   432],\n",
       "       [  116, 15552,   386],\n",
       "       [   10, 18254,   767],\n",
       "       [    8,    40,   353],\n",
       "       [  186, 18238,   386],\n",
       "       [  114,   150,   421],\n",
       "       [  122, 21521,   373],\n",
       "       [    2,  6363,   319],\n",
       "       [   25, 18212,   789],\n",
       "       [  524,   691,   995],\n",
       "       [  276, 18334,   688],\n",
       "       [  344, 15624,   615],\n",
       "       [   20,    63,  1149],\n",
       "       [   10, 18253,   510],\n",
       "       [  182, 15568,   292],\n",
       "       [  173, 21656,   673],\n",
       "       [  530, 18452,   926],\n",
       "       [   33,  6895,  1058],\n",
       "       [  182,   196,   245],\n",
       "       [ 1405,  1505,  2911],\n",
       "       [  382, 18328,   902],\n",
       "       [  424, 18328,   677],\n",
       "       [   51, 15577,   211],\n",
       "       [   97, 18227,   398],\n",
       "       [   19,    36,   384],\n",
       "       [   51,   116,   437],\n",
       "       [  522,   722,  1096],\n",
       "       [  103,   168,   434],\n",
       "       [  141,   197,   245],\n",
       "       [  153,   158,   806],\n",
       "       [   63,  6432,  1071],\n",
       "       [   23,    44,   368],\n",
       "       [   98,   105,  1119],\n",
       "       [  213,   420,   654],\n",
       "       [   16,    58,  2133],\n",
       "       [  319,   403,  1041],\n",
       "       [   49, 18227,   365],\n",
       "       [    2,   160,   314],\n",
       "       [   19,   103,   277],\n",
       "       [  124, 18204,  1210],\n",
       "       [   44, 15564,   491],\n",
       "       [    4,   160,  1533],\n",
       "       [  122,   155,   351],\n",
       "       [  161, 18237,  1619],\n",
       "       [   37,  9882,   257],\n",
       "       [  222, 18362,  1174],\n",
       "       [   10,    50,   288],\n",
       "       [  177, 18176,   289],\n",
       "       [  116,   162,   440],\n",
       "       [   40,    70,   544]])"
      ]
     },
     "execution_count": 195,
     "metadata": {},
     "output_type": "execute_result"
    }
   ],
   "source": [
    "triplets = np.load(\"triplets100.npy\")\n",
    "triplets"
   ]
  },
  {
   "cell_type": "code",
   "execution_count": null,
   "id": "dbe12b9e-9780-4651-9fd7-a0df8856af3a",
   "metadata": {},
   "outputs": [],
   "source": []
  }
 ],
 "metadata": {
  "kernelspec": {
   "display_name": "Python 3",
   "language": "python",
   "name": "python3"
  },
  "language_info": {
   "codemirror_mode": {
    "name": "ipython",
    "version": 3
   },
   "file_extension": ".py",
   "mimetype": "text/x-python",
   "name": "python",
   "nbconvert_exporter": "python",
   "pygments_lexer": "ipython3",
   "version": "3.8.5"
  }
 },
 "nbformat": 4,
 "nbformat_minor": 5
}
